{
 "cells": [
  {
   "cell_type": "code",
   "execution_count": 26,
   "metadata": {
    "collapsed": true
   },
   "outputs": [],
   "source": [
    "import math"
   ]
  },
  {
   "cell_type": "code",
   "execution_count": 70,
   "metadata": {
    "collapsed": true
   },
   "outputs": [],
   "source": [
    "class bopm:\n",
    "    \"\"\"\n",
    "    S: spot price\n",
    "    K: strike price\n",
    "    T: time to maturity in yrs\n",
    "    sigma: volatility of underlying asset\n",
    "    r: risk-free rate\n",
    "    \"\"\"\n",
    "    def __init__(self, S, K, T, sigma, r):\n",
    "        self.S = S\n",
    "        self.K = K\n",
    "        self.T = T\n",
    "        self.sigma = sigma\n",
    "        self.r = r\n",
    "        \n",
    "    def one_period_model(self):\n",
    "        u = math.exp(self.sigma * math.sqrt(self.T))\n",
    "        d = 1/u\n",
    "\n",
    "        p = (math.exp(self.r*self.T) - d) / (u-d)\n",
    "        \n",
    "        S_up = self.S * u\n",
    "        S_down = self.S * d \n",
    "                \n",
    "        option_up = max(S_up - self.K, 0)\n",
    "        option_down = max(S_down - self.K, 0)\n",
    "                \n",
    "        binomial_value = math.exp(-self.r*self.T)*(p*option_up + (1 - p)*option_down)\n",
    "        \n",
    "        return binomial_value"
   ]
  },
  {
   "cell_type": "code",
   "execution_count": 71,
   "metadata": {},
   "outputs": [],
   "source": [
    "option = bopm(S=20, K=21, T=0.25, sigma=0.2, r=0.12)"
   ]
  },
  {
   "cell_type": "code",
   "execution_count": 72,
   "metadata": {},
   "outputs": [
    {
     "name": "stdout",
     "output_type": "stream",
     "text": [
      "1.1034183615129542 0\n"
     ]
    },
    {
     "data": {
      "text/plain": [
       "0.6714390745827777"
      ]
     },
     "execution_count": 72,
     "metadata": {},
     "output_type": "execute_result"
    }
   ],
   "source": [
    "option.one_period_model()"
   ]
  },
  {
   "cell_type": "code",
   "execution_count": null,
   "metadata": {
    "collapsed": true
   },
   "outputs": [],
   "source": []
  }
 ],
 "metadata": {
  "kernelspec": {
   "display_name": "Python 3",
   "language": "python",
   "name": "python3"
  },
  "language_info": {
   "codemirror_mode": {
    "name": "ipython",
    "version": 3
   },
   "file_extension": ".py",
   "mimetype": "text/x-python",
   "name": "python",
   "nbconvert_exporter": "python",
   "pygments_lexer": "ipython3",
   "version": "3.6.2"
  }
 },
 "nbformat": 4,
 "nbformat_minor": 2
}
